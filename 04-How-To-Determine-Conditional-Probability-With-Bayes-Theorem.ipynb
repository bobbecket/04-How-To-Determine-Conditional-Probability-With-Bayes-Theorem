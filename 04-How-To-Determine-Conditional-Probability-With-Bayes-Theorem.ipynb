{
 "cells": [
  {
   "cell_type": "markdown",
   "metadata": {},
   "source": [
    "### How To Determine Conditional Probability With Bayes' Theorem"
   ]
  },
  {
   "cell_type": "markdown",
   "metadata": {},
   "source": [
    "Let's say...\n",
    "\n",
    "- 1% of women between the ages of 40 to 50 have breast cancer.\n",
    "- Of women who test \"positive\" for cancer via mammogram, 90% of them actually have cancer, while the other 10% don't (\"false positive\").\n",
    "\n",
    "Given a woman has just tested positive for cancer, what is the probability she actually has cancer?\n",
    "\n",
    "Bayes' Theorem: P(A|B) = (P(B|A) * P(A)) / P(B)\n",
    "\n",
    "Let \"A\" = A woman has cancer\n",
    "\n",
    "Let \"B\" = A woman tests positive for cancer\n",
    "\n",
    "P(A) = .01\n",
    "\n",
    "P(B) = (.01 * .90) + (.99 * .10) = .009 + .099 = .108\n",
    "\n",
    "P(B|A) = .90\n",
    "\n",
    "P(A|B) = (.90 * .01) / .108 = .083\n",
    "\n",
    "So there is an 8.3% probability that this woman actually has cancer."
   ]
  },
  {
   "cell_type": "code",
   "execution_count": null,
   "metadata": {},
   "outputs": [],
   "source": []
  }
 ],
 "metadata": {
  "kernelspec": {
   "display_name": "Python 3",
   "language": "python",
   "name": "python3"
  },
  "language_info": {
   "codemirror_mode": {
    "name": "ipython",
    "version": 3
   },
   "file_extension": ".py",
   "mimetype": "text/x-python",
   "name": "python",
   "nbconvert_exporter": "python",
   "pygments_lexer": "ipython3",
   "version": "3.7.3"
  }
 },
 "nbformat": 4,
 "nbformat_minor": 2
}
